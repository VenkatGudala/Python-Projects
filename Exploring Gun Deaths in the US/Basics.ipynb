{
 "cells": [
  {
   "cell_type": "code",
   "execution_count": 1,
   "metadata": {
    "collapsed": true
   },
   "outputs": [],
   "source": [
    "# Project: Exploring Gun Deaths in the US\n",
    "#guns.csv contains information on gun deaths in the US from \n",
    "#2012 to 2014. This dataset came from FiveThirtyEight."
   ]
  },
  {
   "cell_type": "code",
   "execution_count": 2,
   "metadata": {
    "collapsed": false,
    "scrolled": true
   },
   "outputs": [
    {
     "name": "stdout",
     "output_type": "stream",
     "text": [
      "[['', 'year', 'month', 'intent', 'police', 'sex', 'age', 'race', 'hispanic', 'place', 'education'], ['1', '2012', '01', 'Suicide', '0', 'M', '34', 'Asian/Pacific Islander', '100', 'Home', '4'], ['2', '2012', '01', 'Suicide', '0', 'F', '21', 'White', '100', 'Street', '3'], ['3', '2012', '01', 'Suicide', '0', 'M', '60', 'White', '100', 'Other specified', '4'], ['4', '2012', '02', 'Suicide', '0', 'M', '64', 'White', '100', 'Home', '4']]\n"
     ]
    }
   ],
   "source": [
    "#Reading the dataset in as a list using the csv module\n",
    "import csv \n",
    "f = open(\"guns.csv\", \"r\") # creating a file object\n",
    "csv_reader = csv.reader(f) #using reader function from csv module to load the opened file\n",
    "data = list(csv_reader) #converting list of lists\n",
    "print(data[0:5])"
   ]
  },
  {
   "cell_type": "code",
   "execution_count": 3,
   "metadata": {
    "collapsed": false,
    "scrolled": true
   },
   "outputs": [
    {
     "name": "stdout",
     "output_type": "stream",
     "text": [
      "['', 'year', 'month', 'intent', 'police', 'sex', 'age', 'race', 'hispanic', 'place', 'education']\n",
      "[['1', '2012', '01', 'Suicide', '0', 'M', '34', 'Asian/Pacific Islander', '100', 'Home', '4'], ['2', '2012', '01', 'Suicide', '0', 'F', '21', 'White', '100', 'Street', '3'], ['3', '2012', '01', 'Suicide', '0', 'M', '60', 'White', '100', 'Other specified', '4'], ['4', '2012', '02', 'Suicide', '0', 'M', '64', 'White', '100', 'Home', '4'], ['5', '2012', '02', 'Suicide', '0', 'M', '31', 'White', '100', 'Other specified', '2']]\n"
     ]
    }
   ],
   "source": [
    "#Removing the header row using list slicing\n",
    "headers = data[0]\n",
    "data = data[1:]\n",
    "print(headers)\n",
    "print(data[0:5])"
   ]
  },
  {
   "cell_type": "code",
   "execution_count": 4,
   "metadata": {
    "collapsed": false
   },
   "outputs": [
    {
     "name": "stdout",
     "output_type": "stream",
     "text": [
      "{'2012': 33563, '2013': 33636, '2014': 33599}\n"
     ]
    }
   ],
   "source": [
    "#Counting Gun Deaths by Year\n",
    "years = [row[1] for row in data] #list comprehension\n",
    "year_counts = {} #empty dictionary for counting years vs deaths\n",
    "for year in years:\n",
    "    if year in year_counts:\n",
    "        year_counts[year] = year_counts[year] + 1\n",
    "    else:\n",
    "        year_counts[year] = 1\n",
    "        \n",
    "print(year_counts)\n",
    "        "
   ]
  },
  {
   "cell_type": "code",
   "execution_count": 5,
   "metadata": {
    "collapsed": false
   },
   "outputs": [
    {
     "name": "stdout",
     "output_type": "stream",
     "text": [
      "[datetime.datetime(2012, 1, 1, 0, 0), datetime.datetime(2012, 1, 1, 0, 0), datetime.datetime(2012, 1, 1, 0, 0), datetime.datetime(2012, 2, 1, 0, 0), datetime.datetime(2012, 2, 1, 0, 0)]\n"
     ]
    }
   ],
   "source": [
    "#Exploring Gun Deaths by Month and Year\n",
    "import datetime\n",
    "#list comprehension for creating dates column from rows in data\n",
    "dates = [datetime.datetime(year=int(row[1]), month=int(row[2]), day=1) for row in data]\n",
    "print(dates[0:5])      "
   ]
  },
  {
   "cell_type": "code",
   "execution_count": 6,
   "metadata": {
    "collapsed": false
   },
   "outputs": [
    {
     "name": "stdout",
     "output_type": "stream",
     "text": [
      "{datetime.datetime(2013, 1, 1, 0, 0): 2864, datetime.datetime(2012, 12, 1, 0, 0): 2791, datetime.datetime(2012, 11, 1, 0, 0): 2729, datetime.datetime(2013, 9, 1, 0, 0): 2742, datetime.datetime(2012, 9, 1, 0, 0): 2852, datetime.datetime(2014, 11, 1, 0, 0): 2756, datetime.datetime(2012, 5, 1, 0, 0): 2999, datetime.datetime(2014, 6, 1, 0, 0): 2931, datetime.datetime(2013, 6, 1, 0, 0): 2920, datetime.datetime(2014, 1, 1, 0, 0): 2651, datetime.datetime(2012, 4, 1, 0, 0): 2795, datetime.datetime(2014, 7, 1, 0, 0): 2884, datetime.datetime(2012, 1, 1, 0, 0): 2758, datetime.datetime(2014, 8, 1, 0, 0): 2970, datetime.datetime(2012, 2, 1, 0, 0): 2357, datetime.datetime(2013, 3, 1, 0, 0): 2862, datetime.datetime(2012, 8, 1, 0, 0): 2954, datetime.datetime(2014, 2, 1, 0, 0): 2361, datetime.datetime(2013, 12, 1, 0, 0): 2765, datetime.datetime(2014, 10, 1, 0, 0): 2865, datetime.datetime(2014, 4, 1, 0, 0): 2862, datetime.datetime(2013, 8, 1, 0, 0): 2859, datetime.datetime(2014, 12, 1, 0, 0): 2857, datetime.datetime(2013, 2, 1, 0, 0): 2375, datetime.datetime(2012, 6, 1, 0, 0): 2826, datetime.datetime(2012, 10, 1, 0, 0): 2733, datetime.datetime(2013, 5, 1, 0, 0): 2806, datetime.datetime(2013, 4, 1, 0, 0): 2798, datetime.datetime(2012, 3, 1, 0, 0): 2743, datetime.datetime(2014, 5, 1, 0, 0): 2864, datetime.datetime(2012, 7, 1, 0, 0): 3026, datetime.datetime(2014, 3, 1, 0, 0): 2684, datetime.datetime(2013, 11, 1, 0, 0): 2758, datetime.datetime(2013, 10, 1, 0, 0): 2808, datetime.datetime(2013, 7, 1, 0, 0): 3079, datetime.datetime(2014, 9, 1, 0, 0): 2914}\n"
     ]
    }
   ],
   "source": [
    "#Counting how many times each unique date occurs in dates.\n",
    "date_counts = {}\n",
    "for date in dates:\n",
    "    if date in date_counts:\n",
    "        date_counts[date] = date_counts[date] + 1\n",
    "    else:\n",
    "        date_counts[date] = 1\n",
    "print(date_counts) "
   ]
  },
  {
   "cell_type": "code",
   "execution_count": 7,
   "metadata": {
    "collapsed": false
   },
   "outputs": [
    {
     "name": "stdout",
     "output_type": "stream",
     "text": [
      "2013-07-01 00:00:00 3079\n"
     ]
    }
   ],
   "source": [
    "#counting max number of deaths by date in date_counts \n",
    "max_deaths = None\n",
    "for i,j in date_counts.items():\n",
    "    if max_deaths is None or j > max_deaths:\n",
    "        max_deaths = j\n",
    "        date = i\n",
    "print(date, max_deaths)"
   ]
  },
  {
   "cell_type": "code",
   "execution_count": 8,
   "metadata": {
    "collapsed": false,
    "scrolled": true
   },
   "outputs": [
    {
     "name": "stdout",
     "output_type": "stream",
     "text": [
      "{'M': 86349, 'F': 14449}\n",
      "{'White': 66237, 'Hispanic': 9022, 'Black': 23296, 'Asian/Pacific Islander': 1326, 'Native American/Native Alaskan': 917}\n"
     ]
    }
   ],
   "source": [
    "#Exploring Gun Deaths by Race & Sex\n",
    "#Count by Sex\n",
    "sex_counts = {} #empty dictionary creation\n",
    "for row in data:\n",
    "    sex = row[5]\n",
    "    if sex in sex_counts:\n",
    "        sex_counts[sex] = sex_counts[sex] + 1\n",
    "    else:\n",
    "        sex_counts[sex] = 1\n",
    "print(sex_counts)\n",
    "\n",
    "#Count by Race\n",
    "race_counts = {} #empty dictionary creation\n",
    "for row in data:\n",
    "    race = row[7]\n",
    "    if race in race_counts:\n",
    "        race_counts[race] = race_counts[race] + 1\n",
    "    else:\n",
    "        race_counts[race] = 1\n",
    "print(race_counts)\n"
   ]
  },
  {
   "cell_type": "code",
   "execution_count": 9,
   "metadata": {
    "collapsed": false,
    "scrolled": true
   },
   "outputs": [
    {
     "name": "stdout",
     "output_type": "stream",
     "text": [
      "[['Id', 'Year', 'Id', 'Sex', 'Id', 'Hispanic Origin', 'Id', 'Id2', 'Geography', 'Total', 'Race Alone - White', 'Race Alone - Hispanic', 'Race Alone - Black or African American', 'Race Alone - American Indian and Alaska Native', 'Race Alone - Asian', 'Race Alone - Native Hawaiian and Other Pacific Islander', 'Two or More Races'], ['cen42010', 'April 1, 2010 Census', 'totsex', 'Both Sexes', 'tothisp', 'Total', '0100000US', '', 'United States', '308745538', '197318956', '44618105', '40250635', '3739506', '15159516', '674625', '6984195']]\n",
      "{'Race Alone - Native Hawaiian and Other Pacific Islander': '674625', 'Race Alone - Asian': '15159516', 'Race Alone - Black or African American': '40250635', 'Race Alone - Hispanic': '44618105', 'Race Alone - White': '197318956', 'Race Alone - American Indian and Alaska Native': '3739506'}\n"
     ]
    }
   ],
   "source": [
    "#Reading the 2010 US census data file \"census.csv\" that contains \n",
    "#information on the total population of the US, as well as the total population\n",
    "#of each racial group in the US. so that we can calculate the rate\n",
    "#of gun deaths per 100000 people of each race.\n",
    "census = list(csv.reader(open(\"census.csv\",\"r\"))) #using reader funciton from csv module and opening the file object\n",
    "print(census)\n",
    "\n",
    "#used my own logic to extract race/population values from census\n",
    "cen_race = [\"Race Alone - Asian\", \"Race Alone - Native Hawaiian and Other Pacific Islander\", \"Race Alone - Black or African American\" , \"Race Alone - Hispanic\", \"Race Alone - American Indian and Alaska Native\", \"Race Alone - White\"]\n",
    "cen_data0 = census[0]\n",
    "cen_data1 = census[1]\n",
    "\n",
    "pre_mapping = {}\n",
    "for each in cen_race:\n",
    "    for i,j in enumerate(cen_data0):\n",
    "        if each == j:\n",
    "            pre_mapping[each] = cen_data1[i]\n",
    "print(pre_mapping)           \n"
   ]
  },
  {
   "cell_type": "code",
   "execution_count": 10,
   "metadata": {
    "collapsed": false,
    "scrolled": true
   },
   "outputs": [
    {
     "name": "stdout",
     "output_type": "stream",
     "text": [
      "{'White': 33.56849303419181, 'Hispanic': 20.220491210910907, 'Black': 57.8773477735196, 'Native American/Native Alaskan': 24.521955573811088, 'Asian/Pacific Islander': 8.374309664161762}\n"
     ]
    }
   ],
   "source": [
    "#Computing rates of gun deaths per race our of every 100,000 people\n",
    "#creation of dictionary with race from race_counts as key &\n",
    "#population of that from the census as corresponding value\n",
    "mapping = {\"Asian/Pacific Islander\": (15159516+674625) , \"Black\":40250635 , \"Native American/Native Alaskan\":3739506 , \"Hispanic\":44618105 , \"White\":197318956}\n",
    "\n",
    "race_per_hundredk = {}\n",
    "for i,j in race_counts.items():\n",
    "    key = i\n",
    "    value = (race_counts[i]/mapping[i]) * 100000\n",
    "    race_per_hundredk[key] = value\n",
    "print(race_per_hundredk)\n",
    "    "
   ]
  },
  {
   "cell_type": "code",
   "execution_count": 11,
   "metadata": {
    "collapsed": false
   },
   "outputs": [
    {
     "name": "stdout",
     "output_type": "stream",
     "text": [
      "{'White': 9147, 'Hispanic': 5634, 'Black': 19510, 'Asian/Pacific Islander': 559, 'Native American/Native Alaskan': 326}\n"
     ]
    }
   ],
   "source": [
    "#Filtering gun deaths by intent:Homicide\n",
    "intents = [row[3] for row in data] #extracting intent column from data\n",
    "races = [row[7] for row in data] #extracting race column from data\n",
    "##Extracting gun deaths by race/Homicide\n",
    "homicide_race_counts = {}\n",
    "for i, race in enumerate(races):\n",
    "    if intents[i] == \"Homicide\":\n",
    "        if race in homicide_race_counts:\n",
    "            homicide_race_counts[race] = homicide_race_counts[race] + 1\n",
    "        else:\n",
    "            homicide_race_counts[race] = 1\n",
    "print(homicide_race_counts)"
   ]
  },
  {
   "cell_type": "code",
   "execution_count": 12,
   "metadata": {
    "collapsed": false
   },
   "outputs": [
    {
     "name": "stdout",
     "output_type": "stream",
     "text": [
      "{'White': 4.6356417981453335, 'Hispanic': 12.627161104219914, 'Black': 48.471284987180944, 'Native American/Native Alaskan': 8.717729026240365, 'Asian/Pacific Islander': 3.530346230970155}\n"
     ]
    }
   ],
   "source": [
    "#Computing rates of gun deaths by Homicide per race our of every 100,000 people\n",
    "homicide_race_hundredk = {}\n",
    "for i,j in homicide_race_counts.items():\n",
    "    key = i\n",
    "    value = (homicide_race_counts[i]/mapping[i]) * 100000\n",
    "    homicide_race_hundredk[key] = value\n",
    "print(homicide_race_hundredk)"
   ]
  }
 ],
 "metadata": {
  "kernelspec": {
   "display_name": "Python 3",
   "language": "python",
   "name": "python3"
  },
  "language_info": {
   "codemirror_mode": {
    "name": "ipython",
    "version": 3
   },
   "file_extension": ".py",
   "mimetype": "text/x-python",
   "name": "python",
   "nbconvert_exporter": "python",
   "pygments_lexer": "ipython3",
   "version": "3.4.3"
  }
 },
 "nbformat": 4,
 "nbformat_minor": 0
}
